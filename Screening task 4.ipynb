{
 "cells": [
  {
   "cell_type": "markdown",
   "metadata": {},
   "source": [
    "## Screening task 4\n",
    "\n",
    "The problem statement is to find the lowest eigenvalue of matrix H:\n",
    "$\\begin{bmatrix}1 & 0 & 0 & 0 \\\\0 & 0 & -1 & 0 \\\\ 0 & -1 & 0 & 0 \\\\ 0 & 0 & 0 & 1\\end{bmatrix}$\n",
    "with a custom VQE implementation"
   ]
  },
  {
   "cell_type": "markdown",
   "metadata": {},
   "source": [
    "The first step consists on decomposing the H matrix into a sum of Pauli matrices, so it can be mapped with quantum gates X,Y,Z."
   ]
  },
  {
   "cell_type": "code",
   "execution_count": 49,
   "metadata": {},
   "outputs": [],
   "source": [
    "import pennylane as qml\n",
    "from pennylane import numpy as np\n",
    "from pennylane.operation import Observable\n",
    "import torch"
   ]
  },
  {
   "cell_type": "code",
   "execution_count": 50,
   "metadata": {},
   "outputs": [
    {
     "name": "stdout",
     "output_type": "stream",
     "text": [
      "(0.5) [I0 I1]\n",
      "+ (-0.5) [X0 X1]\n",
      "+ (-0.5) [Y0 Y1]\n",
      "+ (0.5) [Z0 Z1]\n"
     ]
    },
    {
     "name": "stderr",
     "output_type": "stream",
     "text": [
      "<ipython-input-46-d58ea43f47d6>:44: ComplexWarning: Casting complex values to real discards the imaginary part\n",
      "  a_ij = np.float(0.25 * HS(kron(S[i], S[j]), H))\n"
     ]
    }
   ],
   "source": [
    "H = np.array([[1,0,0,0],[0,0,-1,0],[0,-1,0,0],[0,0,0,1]])\n",
    "coeffs ,obs = DecomposeIntoPauliTerms(H)\n",
    "Hamil = qml.Hamiltonian(coeffs, obs)\n",
    "print(Hamil)"
   ]
  },
  {
   "cell_type": "code",
   "execution_count": 46,
   "metadata": {},
   "outputs": [],
   "source": [
    "## Pennylane code\n",
    "\n",
    "def circuit(params,**kwargs):\n",
    "\n",
    "    qml.Hadamard(wires=0) \n",
    "    qml.CNOT(wires=[0, 1])\n",
    "    qml.RX(params[0], wires=0)\n",
    "\n",
    "\n",
    "def HS(M1, M2):\n",
    "    \"\"\"Hilbert-Schmidt-Product of two matrices M1, M2\"\"\"\n",
    "    return (np.dot(M1.conjugate().transpose(), M2)).trace()\n",
    "\n",
    "def c2s(c):\n",
    "    \"\"\"Return a string representation of a complex number c\"\"\"\n",
    "    if c == 0.0:\n",
    "        return \"0\"\n",
    "    if c.imag == 0:\n",
    "        return \"%g\" % c.real\n",
    "    elif c.real == 0:\n",
    "        return \"%gj\" % c.imag\n",
    "    else:\n",
    "        return \"%g+%gj\" % (c.real, c.imag)\n",
    "\n",
    "def DecomposeIntoPauliTerms(H):\n",
    "    \n",
    "    \"\"\"Decompose Hermitian matrix H acting on 2 qubits into list of 2-qubit Pauli observable\n",
    "    Returns  float coeffs and observable class (Pauli operations) list\n",
    "    \"\"\"\n",
    "    n = int(np.log2(len(H)))\n",
    "    \n",
    "    from numpy import kron\n",
    "    sx = np.array([[0, 1],  [ 1, 0]], dtype=np.complex128)\n",
    "    sy = np.array([[0, -1j],[1j, 0]], dtype=np.complex128)\n",
    "    sz = np.array([[1, 0],  [0, -1]], dtype=np.complex128)\n",
    "    id = np.array([[1, 0],  [ 0, 1]], dtype=np.complex128)\n",
    "    S = [id, sx, sy, sz]\n",
    "    \n",
    "    paulis = [qml.Identity, qml.PauliX, qml.PauliY, qml.PauliZ] # These are Pennylane operations  \n",
    "    coefs = []\n",
    "    obs = []\n",
    "    for i in range(2**n):\n",
    "        for j in range(2**n):\n",
    "            a_ij = np.float(0.25 * HS(kron(S[i], S[j]), H))\n",
    "            if a_ij != 0.0:\n",
    "                term0 = paulis[i]\n",
    "                term1 = paulis[j]\n",
    "                pauli_term = term0(0) @ term1(1)\n",
    "                obs.append(pauli_term)\n",
    "                coefs.append(a_ij)\n",
    "                \n",
    "    return coefs,obs"
   ]
  },
  {
   "cell_type": "code",
   "execution_count": 53,
   "metadata": {},
   "outputs": [
    {
     "name": "stdout",
     "output_type": "stream",
     "text": [
      "Iteration = 0,  Ground-state energy = 0.72656729,  Convergence parameter = 0.12657680 \n",
      "Iteration = 20,  Ground-state energy = -0.99999995,  Convergence parameter = 0.00000010 \n",
      "\n",
      "Final convergence parameter = 0.00000000 \n",
      "Final value of the ground-state energy = -1.00000000\n",
      "\n",
      "Final circuit parameters = \n",
      " [3.14159194]\n"
     ]
    }
   ],
   "source": [
    "\n",
    "nr_qubits = 2\n",
    "dev = qml.device(\"default.qubit\", wires=nr_qubits)\n",
    "\n",
    "cost_fn = qml.VQECost(circuit, Hamil, dev)\n",
    "opt = qml.GradientDescentOptimizer(stepsize=0.4)\n",
    "np.random.seed(0)\n",
    "params = np.random.rand(1)\n",
    "\n",
    "\n",
    "max_iterations = 200\n",
    "conv_tol = 1e-012\n",
    "\n",
    "prev_energy = cost_fn(params)\n",
    "\n",
    "for n in range(max_iterations):\n",
    "    \n",
    "    params = opt.step(cost_fn, params)\n",
    "    energy = cost_fn(params)\n",
    "    conv = np.abs(energy - prev_energy)\n",
    "\n",
    "    if n % 20 == 0:\n",
    "        print('Iteration = {:},  Ground-state energy = {:.8f},  Convergence parameter = {'\n",
    "              ':.8f} '.format(n, energy, conv))\n",
    "\n",
    "    if conv <= conv_tol:\n",
    "        break\n",
    "\n",
    "    prev_energy = energy\n",
    "\n",
    "print()\n",
    "print('Final convergence parameter = {:.8f} '.format(conv))\n",
    "print('Final value of the ground-state energy = {:.8f}'.format(energy))\n",
    "print()\n",
    "print('Final circuit parameters = \\n', params)"
   ]
  },
  {
   "cell_type": "markdown",
   "metadata": {},
   "source": [
    "### Sources"
   ]
  },
  {
   "cell_type": "code",
   "execution_count": null,
   "metadata": {},
   "outputs": [],
   "source": []
  }
 ],
 "metadata": {
  "kernelspec": {
   "display_name": "qiskit",
   "language": "python",
   "name": "qiskit"
  },
  "language_info": {
   "codemirror_mode": {
    "name": "ipython",
    "version": 3
   },
   "file_extension": ".py",
   "mimetype": "text/x-python",
   "name": "python",
   "nbconvert_exporter": "python",
   "pygments_lexer": "ipython3",
   "version": "3.8.5"
  }
 },
 "nbformat": 4,
 "nbformat_minor": 4
}
